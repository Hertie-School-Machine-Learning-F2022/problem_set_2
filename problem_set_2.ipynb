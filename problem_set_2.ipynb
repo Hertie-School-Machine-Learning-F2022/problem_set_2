{
  "nbformat": 4,
  "nbformat_minor": 0,
  "metadata": {
    "colab": {
      "provenance": [],
      "authorship_tag": "ABX9TyMYR1tWHYSvhTwvsDwXP2xN",
      "include_colab_link": true
    },
    "kernelspec": {
      "name": "python3",
      "display_name": "Python 3"
    },
    "language_info": {
      "name": "python"
    }
  },
  "cells": [
    {
      "cell_type": "markdown",
      "metadata": {
        "id": "view-in-github",
        "colab_type": "text"
      },
      "source": [
        "<a href=\"https://colab.research.google.com/github/Hertie-School-Machine-Learning-F2022/problem_set_2/blob/main/problem_set_2.ipynb\" target=\"_parent\"><img src=\"https://colab.research.google.com/assets/colab-badge.svg\" alt=\"Open In Colab\"/></a>"
      ]
    },
    {
      "cell_type": "markdown",
      "source": [
        "## Problem Set 2\n",
        "\n",
        "In this problem set you will apply different preprocessing steps, and observe how data and results change depending on the chosen process.\n",
        "\n",
        "The problem set is due on: 21.10.2022\n",
        "\n",
        "Student name: "
      ],
      "metadata": {
        "id": "RU6-Dn5y1ENP"
      }
    },
    {
      "cell_type": "markdown",
      "source": [
        "First load the 'auto-mpg.csv' dataset available to you on the GitHub repo"
      ],
      "metadata": {
        "id": "VgfPDgC71NRt"
      }
    },
    {
      "cell_type": "code",
      "source": [
        "# Upload the file into the notebook and set it as a dataframe\n",
        "\n"
      ],
      "metadata": {
        "id": "Rm4caUjw1aO0"
      },
      "execution_count": null,
      "outputs": []
    },
    {
      "cell_type": "code",
      "source": [
        "# Inspect the first five samples\n",
        "\n"
      ],
      "metadata": {
        "id": "QZR3xufp1eRd"
      },
      "execution_count": null,
      "outputs": []
    },
    {
      "cell_type": "markdown",
      "source": [
        "Question 1: What is the car name of sample index 3?\n",
        "\n",
        "(Hint: Remember that Python index begins at 0)"
      ],
      "metadata": {
        "id": "KaxQzreR1hHg"
      }
    },
    {
      "cell_type": "code",
      "source": [
        "# Observe the data types of each variable\n",
        "\n"
      ],
      "metadata": {
        "id": "fDHvVqcv1nLv"
      },
      "execution_count": null,
      "outputs": []
    },
    {
      "cell_type": "markdown",
      "source": [
        "Question 2: What are the variables that are saved as categorical in the data frame?"
      ],
      "metadata": {
        "id": "Fwp2tuZH1Z4M"
      }
    },
    {
      "cell_type": "code",
      "source": [
        "# Set as mpg, displacement and weight as X\n",
        "\n",
        "X = \n",
        "\n",
        "# Set acceleration as the target \n",
        "\n",
        "y = "
      ],
      "metadata": {
        "id": "qiRYTcu11ue7"
      },
      "execution_count": null,
      "outputs": []
    },
    {
      "cell_type": "code",
      "source": [
        "# Import the preprocesser MinMaxScaler\n",
        "\n",
        "from sklearn.preprocessing import MinMaxScaler\n",
        "\n",
        "# Set MinMaxScaler as the scaler and transform X\n",
        "\n",
        "\n",
        "# Inspect the array of the transformed values. \n"
      ],
      "metadata": {
        "id": "MbZeAa1u1zSQ"
      },
      "execution_count": null,
      "outputs": []
    },
    {
      "cell_type": "markdown",
      "source": [
        "Question 3: What are the values of the first sample of X (d.p. 2)\n",
        "\n",
        "(Hint: The first sample of X is the first row or the first value of each column)\n"
      ],
      "metadata": {
        "id": "DIUZTXe513OT"
      }
    },
    {
      "cell_type": "code",
      "source": [
        "# Import the preprocesser StandardScaler\n",
        "\n",
        "# Use StandardScaler to transform X\n",
        "\n",
        "\n",
        "# Inspect the array of the transformed values. \n"
      ],
      "metadata": {
        "id": "T7ehkO5V1-Cx"
      },
      "execution_count": null,
      "outputs": []
    },
    {
      "cell_type": "markdown",
      "source": [
        "Question 4: What are the values of the first sample of X? (d.p. 2)\n",
        "\n",
        "(Hint: The first sample of X is the first row or the first value of each column)"
      ],
      "metadata": {
        "id": "bRRXLBd-2Kvj"
      }
    },
    {
      "cell_type": "markdown",
      "source": [
        "Quesiton 5: which of the following statements is true?"
      ],
      "metadata": {
        "id": "ybSivuA42cme"
      }
    },
    {
      "cell_type": "code",
      "source": [
        "# Now set traing and testing sets with a test size of 0.20 and random state = 2\n",
        "\n"
      ],
      "metadata": {
        "id": "ZkIu_zEV2ZEX"
      },
      "execution_count": null,
      "outputs": []
    },
    {
      "cell_type": "markdown",
      "source": [
        "Question 6: How many samples are in X_test?"
      ],
      "metadata": {
        "id": "3kxfwaVM2mMz"
      }
    },
    {
      "cell_type": "code",
      "source": [
        "# Create two pipelines:\n",
        "\n",
        "# (1) preprocessing using Quantile Transformer (set number of quantiles to = 4)\n",
        "# and model using linear regression \n",
        "\n",
        "# (2) preprocessing using MinMaxScaler, and model using linear regression\n",
        "\n",
        "\n",
        "\n",
        "\n",
        "\n",
        "# After setting the pipelines, fit and predict the Pipleine the uses Quantile Trans \n",
        "# only using X_train and y_train\n",
        "\n",
        "\n",
        "# Calcuate the mean_sqaured_error, all parameters are set to default\n",
        "\n",
        "from sklearn.metrics import mean_squared_error\n"
      ],
      "metadata": {
        "id": "stctlKD52o21"
      },
      "execution_count": null,
      "outputs": []
    },
    {
      "cell_type": "markdown",
      "source": [
        "Question 7: In pipeline 1 (Quantile Transfomer) what is the Mean Squared Error? \n"
      ],
      "metadata": {
        "id": "08bnx-6r3Fnc"
      }
    },
    {
      "cell_type": "code",
      "source": [
        "# Fit and predict the Pipleine of MinMaxScaler\n",
        "# only using X_train and y_train\n",
        "\n",
        "\n",
        "\n",
        "# Calcuate the mean_sqaured_error, all parameters are set to default\n",
        "\n",
        "from sklearn.metrics import mean_squared_error"
      ],
      "metadata": {
        "id": "YIgsYNfA3ISi"
      },
      "execution_count": null,
      "outputs": []
    },
    {
      "cell_type": "markdown",
      "source": [
        "Question 8: In pipeline 2 (MinMaxSacler) what is Mean Squared Error? "
      ],
      "metadata": {
        "id": "NhpUJQbf3VuA"
      }
    },
    {
      "cell_type": "code",
      "source": [
        "# Based on that results, use the best model and now predict X_test\n",
        "\n",
        "mm_results_test = mm_pipeline.fit(X_train, y_train).predict(X_test)\n",
        "\n",
        "mm_results_test\n",
        "\n",
        "# Calcuate the R2 metric, all parameters are set to default\n"
      ],
      "metadata": {
        "id": "RWd5aZew3azF"
      },
      "execution_count": null,
      "outputs": []
    },
    {
      "cell_type": "markdown",
      "source": [
        "Question 9: What is the value of the R2 when predicting X_test? (d.p. 2)"
      ],
      "metadata": {
        "id": "4MsIcHOp3kMU"
      }
    },
    {
      "cell_type": "markdown",
      "source": [
        "Question 10: How would you interpret the results of R2?"
      ],
      "metadata": {
        "id": "fgpA5zaC3mZr"
      }
    }
  ]
}